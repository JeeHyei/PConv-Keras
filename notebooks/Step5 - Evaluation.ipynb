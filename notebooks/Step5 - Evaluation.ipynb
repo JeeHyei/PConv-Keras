{
 "cells": [
  {
   "cell_type": "markdown",
   "id": "7311ca35",
   "metadata": {},
   "source": [
    "# Benchmarking & Evaluation\n",
    "The purpose of this notebook is to benchmark our implemented models against each other, as well as against other open source inpainting implementations"
   ]
  },
  {
   "cell_type": "code",
   "execution_count": 7,
   "id": "488b9f61",
   "metadata": {},
   "outputs": [
    {
     "name": "stdout",
     "output_type": "stream",
     "text": [
      "The autoreload extension is already loaded. To reload it, use:\n",
      "  %reload_ext autoreload\n"
     ]
    }
   ],
   "source": [
    "import os\n",
    "import gc\n",
    "from copy import deepcopy\n",
    "\n",
    "# DISABLE GPU\n",
    "#import os\n",
    "#os.environ[\"CUDA_VISIBLE_DEVICES\"] = \"-1\"\n",
    "\n",
    "# Change to root path\n",
    "if os.path.basename(os.getcwd()) != 'PConv-Keras':\n",
    "    os.chdir('..')\n",
    "\n",
    "import matplotlib.pyplot as plt\n",
    "\n",
    "import cv2\n",
    "import numpy as np\n",
    "import pandas as pd\n",
    "from tqdm import tqdm\n",
    "\n",
    "import tensorflow as tf\n",
    "from tensorflow.keras.applications import InceptionV3\n",
    "from tensorflow.keras.models import Model\n",
    "\n",
    "from libs.data_loaders import AugmentingDataGenerator\n",
    "from libs.unet_model import InpaintingUnet\n",
    "from libs.util import MaskGenerator\n",
    "from libs.eval import evaluate_model\n",
    "\n",
    "\n",
    "%load_ext autoreload\n",
    "%autoreload 2\n",
    "plt.ioff()\n",
    "\n",
    "# SETTINGS\n",
    "TEST_DIR = r\"/media/gruber/AuxDisk/ILSVRC/Data/CLS-LOC/test\"\n",
    "#TEST_DIR = '/Users/mathiasgruber/Documents/datasets/imagenette2/val'\n",
    "MASK_DIR = r\"./data/masks/test\"\n",
    "BATCH_SIZE = 1"
   ]
  },
  {
   "cell_type": "markdown",
   "id": "31870672",
   "metadata": {},
   "source": [
    "# Utility Functions\n",
    "Utility functions for evaluating models"
   ]
  },
  {
   "cell_type": "code",
   "execution_count": 2,
   "id": "8b50d5cf",
   "metadata": {},
   "outputs": [
    {
     "name": "stdout",
     "output_type": "stream",
     "text": [
      ">> Found 12000 masks in ./data/masks/test\n",
      "Found 99943 images belonging to 1 classes.\n"
     ]
    }
   ],
   "source": [
    "# Instantiate mask generator with preset masks\n",
    "mask_generator = MaskGenerator(\n",
    "    512, 512, 3, rand_seed=42, filepath=MASK_DIR, \n",
    "    rotation=False, dilation=False, cropping=False\n",
    ")\n",
    "mask_generator = MaskGenerator(512, 512, 3, rand_seed=42)\n",
    "\n",
    "# Create testing generator\n",
    "test_datagen = AugmentingDataGenerator(mask_generator, rescale=1./255)\n",
    "test_generator = test_datagen.flow_from_directory(\n",
    "    TEST_DIR, \n",
    "    target_size=(512, 512), \n",
    "    batch_size=BATCH_SIZE, \n",
    "    seed=42\n",
    ")\n",
    "\n",
    "# Create inception model feature extractor, which returns 2048-dimensional features\n",
    "inception_model = InceptionV3(include_top=True, weights=\"imagenet\")\n",
    "inception_model = Model(\n",
    "    inputs=inception_model.input, \n",
    "    outputs=inception_model.layers[-2].output\n",
    ")"
   ]
  },
  {
   "cell_type": "markdown",
   "id": "a40e7f34",
   "metadata": {},
   "source": [
    "# Evalulate PConv Network\n",
    "Liu *et al.*,  **Image Inpainting for Irregular Holes Using Partial Convolutions**, https://arxiv.org/abs/1804.07723"
   ]
  },
  {
   "cell_type": "code",
   "execution_count": null,
   "id": "ce6fb017",
   "metadata": {},
   "outputs": [],
   "source": [
    "model = InpaintingUnet(\n",
    "    conv_layer='pconv', \n",
    "    load_weights='./data/logs/imagenet_phase1/weights.01-35.29'\n",
    ")"
   ]
  },
  {
   "cell_type": "code",
   "execution_count": null,
   "id": "f4ef8a9d",
   "metadata": {},
   "outputs": [],
   "source": [
    "df = evaluate_model(model, inception_model, test_generator, )\n",
    "\n",
    "means.plot(yerr=stds, kind='bar')\n",
    "plt.show()"
   ]
  },
  {
   "cell_type": "markdown",
   "id": "cbf341d5",
   "metadata": {},
   "source": [
    "# Evaluate GConv Network\n",
    "Architecture from: * Liu *et al.*,  **Image Inpainting for Irregular Holes Using Partial Convolutions**, https://arxiv.org/abs/1804.07723\n",
    "\n",
    "Conv Layer from : Yu *et al.*,  **Free-Form Image Inpainting with Gated Convolution**, https://arxiv.org/abs/1806.03589"
   ]
  },
  {
   "cell_type": "code",
   "execution_count": 4,
   "id": "924d34c5",
   "metadata": {},
   "outputs": [
    {
     "name": "stdout",
     "output_type": "stream",
     "text": [
      "Running model on 2 GPUs\n",
      "INFO:tensorflow:Using MirroredStrategy with devices ('/job:localhost/replica:0/task:0/device:GPU:0', '/job:localhost/replica:0/task:0/device:GPU:1')\n",
      "INFO:tensorflow:Reduce to /job:localhost/replica:0/task:0/device:CPU:0 then broadcast to ('/job:localhost/replica:0/task:0/device:CPU:0',).\n",
      "INFO:tensorflow:Reduce to /job:localhost/replica:0/task:0/device:CPU:0 then broadcast to ('/job:localhost/replica:0/task:0/device:CPU:0',).\n",
      "INFO:tensorflow:Reduce to /job:localhost/replica:0/task:0/device:CPU:0 then broadcast to ('/job:localhost/replica:0/task:0/device:CPU:0',).\n",
      "INFO:tensorflow:Reduce to /job:localhost/replica:0/task:0/device:CPU:0 then broadcast to ('/job:localhost/replica:0/task:0/device:CPU:0',).\n",
      "INFO:tensorflow:Reduce to /job:localhost/replica:0/task:0/device:CPU:0 then broadcast to ('/job:localhost/replica:0/task:0/device:CPU:0',).\n",
      "INFO:tensorflow:Reduce to /job:localhost/replica:0/task:0/device:CPU:0 then broadcast to ('/job:localhost/replica:0/task:0/device:CPU:0',).\n",
      "INFO:tensorflow:Reduce to /job:localhost/replica:0/task:0/device:CPU:0 then broadcast to ('/job:localhost/replica:0/task:0/device:CPU:0',).\n",
      "INFO:tensorflow:Reduce to /job:localhost/replica:0/task:0/device:CPU:0 then broadcast to ('/job:localhost/replica:0/task:0/device:CPU:0',).\n",
      "INFO:tensorflow:Reduce to /job:localhost/replica:0/task:0/device:CPU:0 then broadcast to ('/job:localhost/replica:0/task:0/device:CPU:0',).\n",
      "INFO:tensorflow:Reduce to /job:localhost/replica:0/task:0/device:CPU:0 then broadcast to ('/job:localhost/replica:0/task:0/device:CPU:0',).\n"
     ]
    }
   ],
   "source": [
    "model = InpaintingUnet(\n",
    "    conv_layer='gconv', \n",
    "    load_weights='./data/logs/imagenet_phase1_gconv/weights.47-24.02'\n",
    ")"
   ]
  },
  {
   "cell_type": "code",
   "execution_count": 17,
   "id": "c6623e1d",
   "metadata": {
    "scrolled": true
   },
   "outputs": [
    {
     "name": "stderr",
     "output_type": "stream",
     "text": [
      "100%|██████████| 1000/1000 [02:07<00:00,  7.85it/s]\n"
     ]
    },
    {
     "name": "stdout",
     "output_type": "stream",
     "text": [
      "(512, 512, 3)\n",
      "125/125 [==============================] - 4s 30ms/step\n",
      "125/125 [==============================] - 4s 30ms/step\n"
     ]
    },
    {
     "name": "stderr",
     "output_type": "stream",
     "text": [
      "100%|██████████| 6/6 [00:01<00:00,  5.05it/s]\n"
     ]
    },
    {
     "data": {
      "image/png": "[encoded data removed]",
      "text/plain": [
       "<Figure size 432x288 with 1 Axes>"
      ]
     },
     "metadata": {
      "needs_background": "light"
     },
     "output_type": "display_data"
    }
   ],
   "source": [
    "means, stds = evaluate_model(model, inception_model, test_generator, test_images=1000)\n",
    "means.dropna(axis=0)['psnr'].plot(yerr=stds, kind='bar')\n",
    "plt.show()"
   ]
  },
  {
   "cell_type": "markdown",
   "id": "56a187aa",
   "metadata": {},
   "source": [
    "# Co-mod-GAN\n",
    "Source: Zhao *et al.*, Large Scale Image Completion Via Co-Modulated Generative Adversarial Networks, https://openreview.net/pdf?id=sSjqmfsk95O"
   ]
  },
  {
   "cell_type": "code",
   "execution_count": null,
   "id": "4b313bfe",
   "metadata": {},
   "outputs": [],
   "source": [
    "import os\n",
    "import sys\n",
    "sys.path.append(os.path.join(os.getcwd(), 'co-mod-gan'))"
   ]
  },
  {
   "cell_type": "code",
   "execution_count": null,
   "id": "c95dd3a5",
   "metadata": {},
   "outputs": [],
   "source": [
    "test_masks = os.listdir(MASK_DIR)\n",
    "for i, filename in tqdm(enumerate(test_masks), total=len(test_masks)):\n",
    "\n",
    "    # Load mask from paper\n",
    "    filepath = os.path.join('./data/masks/test', filename)\n",
    "    mask = cv2.imread(filepath) / 255        \n",
    "    maskratio = mask[:,:,0].sum() / (512 * 512)\n",
    "    mask = np.array([1-mask for _ in range(BATCH_SIZE)])        \n",
    "\n",
    "    for _ in range(tests_per_image):\n",
    "\n",
    "        # Pick out image from test generator\n",
    "        test_data = next(test_generator)\n",
    "        (masked, mask), true = test_data"
   ]
  },
  {
   "cell_type": "code",
   "execution_count": null,
   "id": "c31a6dd1",
   "metadata": {},
   "outputs": [],
   "source": []
  }
 ],
 "metadata": {
  "kernelspec": {
   "display_name": "Python (inpainting)",
   "language": "python",
   "name": "inpainting"
  },
  "language_info": {
   "codemirror_mode": {
    "name": "ipython",
    "version": 3
   },
   "file_extension": ".py",
   "mimetype": "text/x-python",
   "name": "python",
   "nbconvert_exporter": "python",
   "pygments_lexer": "ipython3",
   "version": "3.8.10"
  }
 },
 "nbformat": 4,
 "nbformat_minor": 5
}
